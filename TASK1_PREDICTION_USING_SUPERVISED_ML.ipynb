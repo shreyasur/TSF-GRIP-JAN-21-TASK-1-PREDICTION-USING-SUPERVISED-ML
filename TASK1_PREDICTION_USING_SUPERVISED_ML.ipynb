{
  "nbformat": 4,
  "nbformat_minor": 0,
  "metadata": {
    "colab": {
      "name": "TASK1_PREDICTION USING SUPERVISED ML.ipynb",
      "provenance": [],
      "collapsed_sections": [],
      "authorship_tag": "ABX9TyN6oDyykwq/m5SHUFLsaa9g",
      "include_colab_link": true
    },
    "kernelspec": {
      "name": "python3",
      "display_name": "Python 3"
    }
  },
  "cells": [
    {
      "cell_type": "markdown",
      "metadata": {
        "id": "view-in-github",
        "colab_type": "text"
      },
      "source": [
        "<a href=\"https://colab.research.google.com/github/shreyasur/TSF-GRIP-JAN-21-TASK-1-PREDICTION-USING-SUPERVISED-ML/blob/main/TASK1_PREDICTION_USING_SUPERVISED_ML.ipynb\" target=\"_parent\"><img src=\"https://colab.research.google.com/assets/colab-badge.svg\" alt=\"Open In Colab\"/></a>"
      ]
    },
    {
      "cell_type": "markdown",
      "metadata": {
        "id": "e52isrfqbk7K"
      },
      "source": [
        "# BY - SHREYA SUR\r\n",
        "\r\n",
        "# TASK1- PREDICTION USING SUPERVISED ML\r\n",
        "\r\n",
        "  We will predict the percentage of a student based on the no.of study hours using simple linear regression\r\n",
        "\r\n",
        "  PROBLEM STATEMENT- WHAT WILL BE PREDICTED SCORE IF A STUDENT STUDIES FOR 9.25 HOURS/DAY?\r\n",
        "\r\n"
      ]
    },
    {
      "cell_type": "markdown",
      "metadata": {
        "id": "t_JfM4lsjuIu"
      },
      "source": [
        "DATA SOURCE-https://raw.githubusercontent.com/AdiPersonalWorks/Random/master/student_scores%20-%20student_scores.csv"
      ]
    },
    {
      "cell_type": "markdown",
      "metadata": {
        "id": "wOHRM5tG3Mw5"
      },
      "source": [
        "IMPORTING THE REQUIRED LIBRARIES"
      ]
    },
    {
      "cell_type": "code",
      "metadata": {
        "id": "H87s1qxJ3Bl9"
      },
      "source": [
        "import numpy as np\r\n",
        "import pandas as pd\r\n",
        "import requests\r\n",
        "import seaborn as sns\r\n",
        "import matplotlib.pyplot as plt\r\n",
        "\r\n",
        "import io"
      ],
      "execution_count": null,
      "outputs": []
    },
    {
      "cell_type": "markdown",
      "metadata": {
        "id": "yj-Ktx-g3VAB"
      },
      "source": [
        "DOWNLOADING AND READING THE .CSV FILE FROM THE GIVEN SOURCE(GITHUB)"
      ]
    },
    {
      "cell_type": "code",
      "metadata": {
        "id": "hBmnu35L1hke"
      },
      "source": [
        "\r\n",
        "url = \"https://raw.githubusercontent.com/AdiPersonalWorks/Random/master/student_scores%20-%20student_scores.csv\" \r\n",
        "download = requests.get(url).content\r\n"
      ],
      "execution_count": null,
      "outputs": []
    },
    {
      "cell_type": "markdown",
      "metadata": {
        "id": "BL3ven9s3xXG"
      },
      "source": [
        "READING THE DOWNLLOADED .CSV FILE AND CONVERTING IT ITNO PANDAS DATAFRAME"
      ]
    },
    {
      "cell_type": "code",
      "metadata": {
        "id": "Y-aNkdZm35wO"
      },
      "source": [
        "df = pd.read_csv(io.StringIO(download.decode('utf-8')))\r\n"
      ],
      "execution_count": null,
      "outputs": []
    },
    {
      "cell_type": "markdown",
      "metadata": {
        "id": "mUP1Px-K4B6A"
      },
      "source": [
        "DISPLAYING THE PREVIEW OF THE DATAFRAME"
      ]
    },
    {
      "cell_type": "code",
      "metadata": {
        "colab": {
          "base_uri": "https://localhost:8080/"
        },
        "id": "s45i_GAp4IAW",
        "outputId": "193998dc-26bc-48a9-e240-d7108ec5cd07"
      },
      "source": [
        "print(df.head())"
      ],
      "execution_count": null,
      "outputs": [
        {
          "output_type": "stream",
          "text": [
            "   Hours  Scores\n",
            "0    2.5      21\n",
            "1    5.1      47\n",
            "2    3.2      27\n",
            "3    8.5      75\n",
            "4    3.5      30\n"
          ],
          "name": "stdout"
        }
      ]
    },
    {
      "cell_type": "markdown",
      "metadata": {
        "id": "hNuUApTu8WXm"
      },
      "source": [
        "CHECKING THE SHAPE OF THE DATAFRAME\r\n"
      ]
    },
    {
      "cell_type": "code",
      "metadata": {
        "colab": {
          "base_uri": "https://localhost:8080/"
        },
        "id": "Iqyiuld18EAO",
        "outputId": "1ecb68ca-6617-4ed1-982a-eb28f71b78c3"
      },
      "source": [
        "df.shape"
      ],
      "execution_count": null,
      "outputs": [
        {
          "output_type": "execute_result",
          "data": {
            "text/plain": [
              "(25, 2)"
            ]
          },
          "metadata": {
            "tags": []
          },
          "execution_count": 51
        }
      ]
    },
    {
      "cell_type": "markdown",
      "metadata": {
        "id": "B2npCfNa8wd0"
      },
      "source": [
        "CHECKING IF NULL VALUES ARE PRESENT IN THE DATAFRAME"
      ]
    },
    {
      "cell_type": "code",
      "metadata": {
        "colab": {
          "base_uri": "https://localhost:8080/"
        },
        "id": "zBA7B8XK8qOc",
        "outputId": "e1a1fdcb-201c-45c0-f8e6-fffe3b8fa7e8"
      },
      "source": [
        "df.isnull().sum()"
      ],
      "execution_count": null,
      "outputs": [
        {
          "output_type": "execute_result",
          "data": {
            "text/plain": [
              "Hours     0\n",
              "Scores    0\n",
              "dtype: int64"
            ]
          },
          "metadata": {
            "tags": []
          },
          "execution_count": 52
        }
      ]
    },
    {
      "cell_type": "markdown",
      "metadata": {
        "id": "Yrj4gFkk3xAG"
      },
      "source": [
        "PLOTTING A 2-D GRAPH TO SEE ANY HIDDEN RELATIONSHIP IN THE GIVEN DATASET\r\n"
      ]
    },
    {
      "cell_type": "code",
      "metadata": {
        "colab": {
          "base_uri": "https://localhost:8080/",
          "height": 296
        },
        "id": "33lBsUxO4tfL",
        "outputId": "9892a848-75d3-4697-f2d2-a17554da771a"
      },
      "source": [
        "sns.scatterplot(x='Hours',y='Scores',data=df)"
      ],
      "execution_count": null,
      "outputs": [
        {
          "output_type": "execute_result",
          "data": {
            "text/plain": [
              "<matplotlib.axes._subplots.AxesSubplot at 0x7fc9d85d3b38>"
            ]
          },
          "metadata": {
            "tags": []
          },
          "execution_count": 53
        },
        {
          "output_type": "display_data",
          "data": {
            "image/png": "[encoded data removed]",
            "text/plain": [
              "<Figure size 432x288 with 1 Axes>"
            ]
          },
          "metadata": {
            "tags": [],
            "needs_background": "light"
          }
        }
      ]
    },
    {
      "cell_type": "markdown",
      "metadata": {
        "id": "ZB6xSXox5s4k"
      },
      "source": [
        "FROM THE ABOVE GRAPH , WE CAN CONCLUDE THAT THERE IS A LINEAR RELATIONSHIP BETWEEN HOURS OF STUDYING AND THE PERCENTAGE OF SCORE OBTAINED.SINCE THERE IS ONLY ONE INPUT COLUMN AND ONE OUTPUT COLUMN ,THIS IS A PROBLEM OF SIMPLE LINEAR REGRESSION."
      ]
    },
    {
      "cell_type": "markdown",
      "metadata": {
        "id": "rJvi2qz19ARS"
      },
      "source": [
        "1.EXTRACTING INPUT AND OUTPUT COLUMNS SEPERATELY\r\n",
        " \r\n",
        "\r\n",
        "*   INPUT COLUMN IS DENOTED BY 'X'\r\n",
        "*   OUTPUT COLUMN IS DENOTED BY 'y'\r\n",
        "\r\n"
      ]
    },
    {
      "cell_type": "code",
      "metadata": {
        "id": "HDY2nBnm9Jsq"
      },
      "source": [
        "X=df['Hours'].values.reshape(25,1)\r\n",
        "# since sklearn expects more than one input column ,by default it accepts 2D arrays\r\n",
        "# as we have only one input column we are reshaping it into a 2D array"
      ],
      "execution_count": null,
      "outputs": []
    },
    {
      "cell_type": "code",
      "metadata": {
        "colab": {
          "base_uri": "https://localhost:8080/"
        },
        "id": "NEPYheOy9RQ9",
        "outputId": "e65c1eaa-c0c1-4d95-cf61-9ce1bb3677ef"
      },
      "source": [
        "print(X)"
      ],
      "execution_count": null,
      "outputs": [
        {
          "output_type": "stream",
          "text": [
            "[[2.5]\n",
            " [5.1]\n",
            " [3.2]\n",
            " [8.5]\n",
            " [3.5]\n",
            " [1.5]\n",
            " [9.2]\n",
            " [5.5]\n",
            " [8.3]\n",
            " [2.7]\n",
            " [7.7]\n",
            " [5.9]\n",
            " [4.5]\n",
            " [3.3]\n",
            " [1.1]\n",
            " [8.9]\n",
            " [2.5]\n",
            " [1.9]\n",
            " [6.1]\n",
            " [7.4]\n",
            " [2.7]\n",
            " [4.8]\n",
            " [3.8]\n",
            " [6.9]\n",
            " [7.8]]\n"
          ],
          "name": "stdout"
        }
      ]
    },
    {
      "cell_type": "code",
      "metadata": {
        "id": "39fyeKfT9SkB"
      },
      "source": [
        "y=df['Scores'].values"
      ],
      "execution_count": null,
      "outputs": []
    },
    {
      "cell_type": "code",
      "metadata": {
        "colab": {
          "base_uri": "https://localhost:8080/"
        },
        "id": "QMT4pvyY9ZyL",
        "outputId": "b0ef861c-3698-4055-d080-5e9049b6e98d"
      },
      "source": [
        "print(y)"
      ],
      "execution_count": null,
      "outputs": [
        {
          "output_type": "stream",
          "text": [
            "[21 47 27 75 30 20 88 60 81 25 85 62 41 42 17 95 30 24 67 69 30 54 35 76\n",
            " 86]\n"
          ],
          "name": "stdout"
        }
      ]
    },
    {
      "cell_type": "markdown",
      "metadata": {
        "id": "bS1UIZm899h5"
      },
      "source": [
        "2.DIVIDING DATA INTO TRAINING AND TEST SET"
      ]
    },
    {
      "cell_type": "code",
      "metadata": {
        "id": "EXK1uJpM9a-g"
      },
      "source": [
        "# diving the datatframe into 80:20 ratio\r\n",
        "from sklearn.model_selection import train_test_split\r\n",
        "X_train,X_test,y_train,y_test=train_test_split(X,y,test_size=0.2)"
      ],
      "execution_count": null,
      "outputs": []
    },
    {
      "cell_type": "markdown",
      "metadata": {
        "id": "IY_hhU0y_MBT"
      },
      "source": [
        "3.TRAINING THE MODEL"
      ]
    },
    {
      "cell_type": "code",
      "metadata": {
        "colab": {
          "base_uri": "https://localhost:8080/"
        },
        "id": "9C-s29IU_WiY",
        "outputId": "445018ef-c9a0-42a7-e430-b105a4965544"
      },
      "source": [
        "from sklearn.linear_model import LinearRegression\r\n",
        "\r\n",
        "reg=LinearRegression()\r\n",
        "reg.fit(X_train,y_train)\r\n",
        "\r\n",
        "print('Training successfully completed')"
      ],
      "execution_count": null,
      "outputs": [
        {
          "output_type": "stream",
          "text": [
            "Training successfully completed\n"
          ],
          "name": "stdout"
        }
      ]
    },
    {
      "cell_type": "markdown",
      "metadata": {
        "id": "XGeyPre6Ebxm"
      },
      "source": [
        "CHECKING THE BEST FIT LINE DRAWN BY THE LINEAR REGRESSION ALGORITHM"
      ]
    },
    {
      "cell_type": "code",
      "metadata": {
        "colab": {
          "base_uri": "https://localhost:8080/",
          "height": 352
        },
        "id": "YemCZJSNEZUs",
        "outputId": "553450aa-f324-4846-b4cd-d999635583f3"
      },
      "source": [
        "import seaborn as sns\r\n",
        "import matplotlib.pyplot as plt\r\n",
        "\r\n",
        "plt.plot(X_train,reg.predict(X_train),color='red')\r\n",
        "sns.scatterplot(df['Hours'],df['Scores'])"
      ],
      "execution_count": null,
      "outputs": [
        {
          "output_type": "stream",
          "text": [
            "/usr/local/lib/python3.6/dist-packages/seaborn/_decorators.py:43: FutureWarning: Pass the following variables as keyword args: x, y. From version 0.12, the only valid positional argument will be `data`, and passing other arguments without an explicit keyword will result in an error or misinterpretation.\n",
            "  FutureWarning\n"
          ],
          "name": "stderr"
        },
        {
          "output_type": "execute_result",
          "data": {
            "text/plain": [
              "<matplotlib.axes._subplots.AxesSubplot at 0x7fc9d839c208>"
            ]
          },
          "metadata": {
            "tags": []
          },
          "execution_count": 60
        },
        {
          "output_type": "display_data",
          "data": {
            "image/png": "[encoded data removed]",
            "text/plain": [
              "<Figure size 432x288 with 1 Axes>"
            ]
          },
          "metadata": {
            "tags": [],
            "needs_background": "light"
          }
        }
      ]
    },
    {
      "cell_type": "markdown",
      "metadata": {
        "id": "ik6W5JZWDiVa"
      },
      "source": [
        "4.DOING PREDICTION\r\n",
        "\r\n",
        "* since the model is trained now , we can make some predictions "
      ]
    },
    {
      "cell_type": "code",
      "metadata": {
        "id": "w7nhnXcu_J6M"
      },
      "source": [
        "y_pred=reg.predict(X_test)\r\n"
      ],
      "execution_count": null,
      "outputs": []
    },
    {
      "cell_type": "code",
      "metadata": {
        "id": "kTeEMeZLCiLW"
      },
      "source": [
        "# reshaping the X_test column because while creating the dataframe only 1-D array is supported\r\n",
        "X_test1=X_test.reshape(5,)"
      ],
      "execution_count": null,
      "outputs": []
    },
    {
      "cell_type": "code",
      "metadata": {
        "colab": {
          "base_uri": "https://localhost:8080/",
          "height": 197
        },
        "id": "9RB01SCSB6F0",
        "outputId": "571a660f-91b2-4f3b-d911-64f86bfd3ced"
      },
      "source": [
        "# comparing the hours and the actual score from the dataset and the predicted score from the algorithm\r\n",
        "df1=pd.DataFrame({'Hours':X_test1,'Actual_Score': y_test ,'Predicted_Score': y_pred})\r\n",
        "df1"
      ],
      "execution_count": null,
      "outputs": [
        {
          "output_type": "execute_result",
          "data": {
            "text/html": [
              "<div>\n",
              "<style scoped>\n",
              "    .dataframe tbody tr th:only-of-type {\n",
              "        vertical-align: middle;\n",
              "    }\n",
              "\n",
              "    .dataframe tbody tr th {\n",
              "        vertical-align: top;\n",
              "    }\n",
              "\n",
              "    .dataframe thead th {\n",
              "        text-align: right;\n",
              "    }\n",
              "</style>\n",
              "<table border=\"1\" class=\"dataframe\">\n",
              "  <thead>\n",
              "    <tr style=\"text-align: right;\">\n",
              "      <th></th>\n",
              "      <th>Hours</th>\n",
              "      <th>Actual_Score</th>\n",
              "      <th>Predicted_Score</th>\n",
              "    </tr>\n",
              "  </thead>\n",
              "  <tbody>\n",
              "    <tr>\n",
              "      <th>0</th>\n",
              "      <td>3.8</td>\n",
              "      <td>35</td>\n",
              "      <td>39.607620</td>\n",
              "    </tr>\n",
              "    <tr>\n",
              "      <th>1</th>\n",
              "      <td>6.1</td>\n",
              "      <td>67</td>\n",
              "      <td>61.552043</td>\n",
              "    </tr>\n",
              "    <tr>\n",
              "      <th>2</th>\n",
              "      <td>6.9</td>\n",
              "      <td>76</td>\n",
              "      <td>69.184885</td>\n",
              "    </tr>\n",
              "    <tr>\n",
              "      <th>3</th>\n",
              "      <td>5.5</td>\n",
              "      <td>60</td>\n",
              "      <td>55.827411</td>\n",
              "    </tr>\n",
              "    <tr>\n",
              "      <th>4</th>\n",
              "      <td>2.7</td>\n",
              "      <td>25</td>\n",
              "      <td>29.112462</td>\n",
              "    </tr>\n",
              "  </tbody>\n",
              "</table>\n",
              "</div>"
            ],
            "text/plain": [
              "   Hours  Actual_Score  Predicted_Score\n",
              "0    3.8            35        39.607620\n",
              "1    6.1            67        61.552043\n",
              "2    6.9            76        69.184885\n",
              "3    5.5            60        55.827411\n",
              "4    2.7            25        29.112462"
            ]
          },
          "metadata": {
            "tags": []
          },
          "execution_count": 63
        }
      ]
    },
    {
      "cell_type": "markdown",
      "metadata": {
        "id": "u5U54dfXI5O3"
      },
      "source": [
        "5.EVALUATING THE MODEL\r\n",
        " * CHECKING THE METRICS TO SEE HOW OUR ALGORITHM HAS PERFORMED"
      ]
    },
    {
      "cell_type": "code",
      "metadata": {
        "id": "3ZsdxCwrHOb3"
      },
      "source": [
        "from sklearn.metrics import r2_score\r\n",
        "r2_score=r2_score(y_test,y_pred)"
      ],
      "execution_count": null,
      "outputs": []
    },
    {
      "cell_type": "code",
      "metadata": {
        "colab": {
          "base_uri": "https://localhost:8080/"
        },
        "id": "Ggq9U6uyLgOd",
        "outputId": "72b0a62a-defc-480e-de8f-ec0b087b4859"
      },
      "source": [
        "print('r2 score:',r2_score)"
      ],
      "execution_count": null,
      "outputs": [
        {
          "output_type": "stream",
          "text": [
            "r2 score: 0.9549869629349366\n"
          ],
          "name": "stdout"
        }
      ]
    },
    {
      "cell_type": "code",
      "metadata": {
        "colab": {
          "base_uri": "https://localhost:8080/"
        },
        "id": "q2H7BmHJNwMy",
        "outputId": "73f6282c-334c-41bf-ab6a-21bf1f7a7f9e"
      },
      "source": [
        "from sklearn import metrics  \r\n",
        "print('Mean Absolute Error:', \r\n",
        "      metrics.mean_absolute_error(y_test, y_pred)) "
      ],
      "execution_count": null,
      "outputs": [
        {
          "output_type": "stream",
          "text": [
            "Mean Absolute Error: 5.031148765626613\n"
          ],
          "name": "stdout"
        }
      ]
    },
    {
      "cell_type": "markdown",
      "metadata": {
        "id": "e0YCmY5QIdSH"
      },
      "source": [
        "PROBLEM STATEMENT-\r\n",
        " * WHAT WILL BE PREDICTED SCORE IF A STUDENT STUDIES FOR 9.25 HOURS/DAY?"
      ]
    },
    {
      "cell_type": "code",
      "metadata": {
        "colab": {
          "base_uri": "https://localhost:8080/"
        },
        "id": "PQDux6u7CJlL",
        "outputId": "7fdbe911-4e8e-488f-a843-28f3c2bbb71d"
      },
      "source": [
        "hours=9.25\r\n",
        "hours=np.array(hours).reshape(1,1)\r\n",
        "\r\n",
        "my_pred=reg.predict(hours)\r\n",
        "print(\"If a student studies for {} hours/day , he is expected to approximatey score {} %\".format(hours[0][0],my_pred[0]))"
      ],
      "execution_count": null,
      "outputs": [
        {
          "output_type": "stream",
          "text": [
            "If a student studies for 9.25 hours/day , he is expected to approximatey score 91.60636004121068 %\n"
          ],
          "name": "stdout"
        }
      ]
    },
    {
      "cell_type": "markdown",
      "metadata": {
        "id": "7ZMzgRt6MuU0"
      },
      "source": [
        "CONCLUSION-\r\n",
        "* OUR ALGORITHM HAS A R2_SCORE OF ~0.954 WHICH IS POSITIVE AND CLOSE TO 1, WHICH IMPLIES THAT THE TWO VARIABLES ARE STRONGLY CORRELATED WITH LOW VARIANCE.\r\n",
        "* AND IT HAS A MEAN ABSOLUTE ERROR OF ~5.0311"
      ]
    }
  ]
}